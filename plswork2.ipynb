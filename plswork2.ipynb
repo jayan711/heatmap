{
 "cells": [
  {
   "cell_type": "code",
   "execution_count": 2,
   "metadata": {},
   "outputs": [
    {
     "ename": "",
     "evalue": "",
     "output_type": "error",
     "traceback": [
      "\u001b[1;31mThe Kernel crashed while executing code in the current cell or a previous cell. \n",
      "\u001b[1;31mPlease review the code in the cell(s) to identify a possible cause of the failure. \n",
      "\u001b[1;31mClick <a href='https://aka.ms/vscodeJupyterKernelCrash'>here</a> for more info. \n",
      "\u001b[1;31mView Jupyter <a href='command:jupyter.viewOutput'>log</a> for further details."
     ]
    }
   ],
   "source": [
    "import json\n",
    "import pandas as pd\n",
    "import plotly.express as px\n",
    "\n",
    "# Load GeoJSON\n",
    "with open(\"merged_us_zipcodes.geojson\") as f:\n",
    "    zip_codes = json.load(f)\n",
    "\n",
    "# Load and filter data\n",
    "df = pd.read_csv(\"all_gentrification_prediction.csv\")\n",
    "# Prepare DataFrame with ZIPs as 5-digit strings\n",
    "dfx = df[[\"zip_code\", \"gentrification_prob_2035\", \"msa_name\"]].copy()\n",
    "dfx[\"zip_code\"] = dfx[\"zip_code\"].astype(str).str.zfill(5)\n",
    "\n",
    "# Plot choropleth\n",
    "fig = px.choropleth(\n",
    "    dfx,\n",
    "    geojson=zip_codes,\n",
    "    locations=\"zip_code\",\n",
    "    featureidkey=\"properties.ZCTA5CE10\",  # ← this matches your file\n",
    "    color=\"gentrification_prob_2035\",\n",
    "    color_continuous_scale=\"Rainbow\",\n",
    "    range_color=(dfx[\"gentrification_prob_2035\"].min(), dfx[\"gentrification_prob_2035\"].max()),\n",
    "    scope=\"usa\",\n",
    "    hover_data={\"msa_name\": True}\n",
    ")\n",
    "\n",
    "fig.update_geos(fitbounds=\"locations\", visible=False)\n",
    "fig.update_layout(margin={\"r\": 0, \"t\": 0, \"l\": 0, \"b\": 0})\n",
    "fig.show()\n"
   ]
  }
 ],
 "metadata": {
  "kernelspec": {
   "display_name": "base",
   "language": "python",
   "name": "python3"
  },
  "language_info": {
   "codemirror_mode": {
    "name": "ipython",
    "version": 3
   },
   "file_extension": ".py",
   "mimetype": "text/x-python",
   "name": "python",
   "nbconvert_exporter": "python",
   "pygments_lexer": "ipython3",
   "version": "3.12.3"
  }
 },
 "nbformat": 4,
 "nbformat_minor": 2
}
